{
 "cells": [
  {
   "cell_type": "markdown",
   "id": "50b48075",
   "metadata": {},
   "source": [
    "## Introduction to the Effective Mass Model\n",
    "\n",
    "The outline of this section generally follows the books of V.I. Firsul' and P.S. Kireev with additional contributions taken from the book of B.M. Askerov.\n",
    "\n",
    "In solids, electron transport can be described in the Boltzmann transport theory framework.\n",
    "\n",
    "The effective mass model can be applied to materials with carrier transport dominated by majority carriers with a single scattering mechanism. In this case, the energy dependence of the relaxation time $\\tau$ depends on the scattering mechanism and is expressed by a simple power-law:\n",
    "\n",
    "```math\n",
    "\\tau(\\varepsilon) = \\tau_0 \\varepsilon^r\n",
    "```\n",
    "\n",
    "Here, $\\tau_0$ is a reference relaxation time for carriers at $k_{\\mathrm{B}}T$,\n",
    "$\\varepsilon = \\frac{E}{k_{\\mathrm{B}}T}$ represents the reduced carrier energy,\n",
    "and $r$ represents the scattering factor\n",
    "($r = -\\frac{1}{2}$ for acoustic phonon scattering,\n",
    "$r = \\frac{1}{2}$ for polar optical phonon scattering,\n",
    "$r = \\frac{3}{2}$ for ionized-impurity scattering, etc.).\n",
    "\n",
    "Using the expression for the density of states:\n",
    "\n",
    "```math\n",
    "g(E) = \\frac{1}{2\\pi^2} \\left( \\frac{2m_d^{\\ast}}{\\hbar^2} \\right)^{3/2} \\sqrt{E}\n",
    "```\n",
    "\n",
    "and the Fermi-Dirac distribution function:\n",
    "\n",
    "```math\n",
    "f(E, \\mu) = \\frac{1}{1 + \\exp\\left(\\frac{E - \\mu}{k_{\\mathrm{B}}T}\\right)}, \\quad\n",
    "E = \\frac{\\hbar^2 k_{\\mathrm{B}}^2}{2m_d^{\\ast}} \\text{ (for single parabolic band)}\n",
    "```\n",
    "\n",
    "the charge carrier concentration can be obtained as:\n",
    "\n",
    "```math\n",
    "n = \\int_0^{\\infty} g(E) f(E) \\, dE \n",
    "= 4\\pi \\left( \\frac{2m_d^{\\ast}k_{\\mathrm{B}}T}{h^2} \\right)^{3/2} F_{1/2}(\\eta)\n",
    "```\n",
    "\n",
    "Here:\n",
    "\n",
    " $m_d^{\\ast}$ is the density of states effective mass,\n",
    "  defined as $m_d^{\\ast} = N_v^{2/3}(m_x^{\\ast} m_y^{\\ast} m_z^{\\ast})^{1/3}$,\n",
    " $N_v$ is the valley degeneracy factor,\n",
    " $h$ is the Planck constant,\n",
    " $E$ is the carrier energy measured from the conduction band bottom $E_c$ (or valence band maximum $E_v$),\n",
    " $\\mu$ is the chemical potential,\n",
    " $\\eta = \\mu / k_{\\mathrm{B}}T$ is the reduced Fermi energy (reduced chemical potential),\n",
    " $F_{1/2}(\\eta)$ is the Fermi integral of order 1/2.\n",
    "\n",
    "The general Fermi integral of order $j$ is defined as:\n",
    "\n",
    "```math\n",
    "F_j(\\eta) = \\int_0^{\\infty} \\frac{\\varepsilon^j}{1 + \\exp(\\varepsilon - \\eta)} \\, d\\varepsilon\n",
    "``` \n",
    "with $\\eta = \\mu / k_{\\mathrm{B}}T$ representing the reduced Fermi energy, also known as the reduced chemical potential.\n",
    "\n",
    "In the Boltzmann transport theory framework with the relaxation time approximation, the thermopower is expressed as:\n",
    "\n",
    "```math\n",
    "\\alpha = \\pm \\frac{k_{\\mathrm{B}}}{e} \\left[\n",
    "\\frac{\\int_0^{\\infty} \\varepsilon^{5/2} \\tau(\\varepsilon) \\frac{\\partial f(\\varepsilon)}{\\partial \\varepsilon} \\, d\\varepsilon}\n",
    "{\\int_0^{\\infty} \\varepsilon^{3/2} \\tau(\\varepsilon) \\frac{\\partial f(\\varepsilon)}{\\partial \\varepsilon} \\, d\\varepsilon}\n",
    "- \\eta \\right]\n",
    "```\n",
    "\n",
    "Using Eqs. for $\\tau(\\varepsilon)$, the Fermi-Dirac distribution $f(\\varepsilon)$, and the Fermi integral, this expression can be simplified to:\n",
    "\n",
    "```math\n",
    "\\alpha(\\eta) = \\pm \\frac{k_{\\mathrm{B}}}{e} \\left(\n",
    "\\frac{(r + \\tfrac{5}{2}) F_{r + \\tfrac{3}{2}}(\\eta)}{(r + \\tfrac{3}{2}) F_{r + \\tfrac{1}{2}}(\\eta)} - \\eta\n",
    "\\right)\n",
    "```\n",
    "\n",
    "> **Note:** This formula assumes the chemical potential does not depend on temperature, i.e., $\\eta \\approx E_{\\mathrm{F}} / k_{\\mathrm{B}}T$. This approximation may not be valid in all cases, especially near intrinsic or degenerate limits. For a more detailed overview of the influence of the temperature dependent chemical potential on thermopower we refer the reader to the following paper [Takeuchi et al. (https://www.jstage.jst.go.jp/article/matertrans/51/3/51_M2009349/_article)].\n"
   ]
  },
  {
   "cell_type": "code",
   "execution_count": 2,
   "id": "43d4c307",
   "metadata": {},
   "outputs": [],
   "source": [
    "import scipy.constants as sc\n",
    "import matplotlib.pyplot as plt\n",
    "import matplotlib.gridspec as gridspec\n",
    "import matplotlib.ticker\n",
    "import numpy as np\n",
    "from fdint import fdk\n",
    "Fermi = fdk\n",
    "from scipy.optimize import root\n",
    "from scipy.optimize import root_scalar\n",
    "import pandas as pd\n",
    "from numpy.polynomial import Polynomial\n",
    "import matplotlib.ticker as ticker"
   ]
  },
  {
   "cell_type": "code",
   "execution_count": 21,
   "id": "7799e5f9",
   "metadata": {},
   "outputs": [],
   "source": [
    "def a_SPB(eta,r=-0.5,chargeSign=1.0):\n",
    "    '''\n",
    "    Calculates thermopower [mkV/K], assuming tau~x**r\n",
    "    r - scattering parameter (e.g. r=-0.5 for acoustic, r=1.5 for ionized impurity scattering)\n",
    "    eta - chemical potential\n",
    "    chargeSign - optional sign of carrier charge\n",
    "    '''\n",
    "    alpha = chargeSign*sc.k/sc.e*(((r+2.5)*Fermi(r+1.5,eta))/((r+1.5)*Fermi(r+0.5,eta))-eta)*10**6\n",
    "    return alpha\n",
    "\n",
    "def a_SPB_nondeg(eta,r=-0.5,chargeSign=1.0):\n",
    "    '''\n",
    "    Calculates thermopower [mkV/K] for nondegenerate region, assuming tau~x**r and Boltzmann statistics\n",
    "    r - scattering parameter (e.g. r=-0.5 for acoustic, r=1.5 for ionized impurity scattering)\n",
    "    eta - chemical potential\n",
    "    chargeSign - optional sign of carrier charge\n",
    "    '''\n",
    "    alpha = chargeSign*sc.k/sc.e*(r+5/2-eta)*10**6\n",
    "    return alpha\n",
    "\n",
    "def a_SPB_deg(eta,r=-0.5,chargeSign=1.0):\n",
    "    '''\n",
    "    Calculates thermopower [mkV/K] for degenerate region, assuming tau~x**r and Fermi-Dirac statistics\n",
    "    r - scattering parameter (e.g. r=-0.5 for acoustic, r=1.5 for ionized impurity scattering)\n",
    "    eta - chemical potential\n",
    "    chargeSign - optional sign of carrier charge\n",
    "    '''\n",
    "    alpha = chargeSign*sc.k/sc.e*sc.pi**2/3*(3/2+r)/eta*10**6\n",
    "    return alpha"
   ]
  },
  {
   "cell_type": "code",
   "execution_count": 9,
   "id": "560eca46",
   "metadata": {},
   "outputs": [],
   "source": [
    "eta = np.linspace(-20,20,1000)\n",
    "r = -1/2\n",
    "md = 1 #doesn't matter\n",
    "T = 300 #doesn't matter"
   ]
  },
  {
   "cell_type": "code",
   "execution_count": null,
   "id": "e64c498e",
   "metadata": {},
   "outputs": [
    {
     "data": {
      "text/plain": [
       "Text(7.5, 717.5, 'degenerate')"
      ]
     },
     "execution_count": 22,
     "metadata": {},
     "output_type": "execute_result"
    },
    {
     "data": {
      "image/png": "[encoded data removed]",
      "text/plain": [
       "<Figure size 360x360 with 1 Axes>"
      ]
     },
     "metadata": {
      "needs_background": "light"
     },
     "output_type": "display_data"
    }
   ],
   "source": [
    "fig = plt.figure(1, figsize=(5,5), linewidth=5.0)\n",
    "plt.plot(eta, a_SPB(eta,r=r), linestyle='-', color='k', label=r'Full numerical solution', zorder=1)\n",
    "eta_deg = np.linspace(0.01,20,500)\n",
    "plt.plot(eta_deg, a_SPB_deg(eta_deg,r=r), linestyle=':', color='#f14040', label = r'Degenerate limit', zorder=0) #degenerate SPB curve\n",
    "plt.plot(eta, a_SPB_nondeg(eta,r=r), linestyle=':', color='#1a6fdf', label =r'Non-degenerate limit', zorder=0) #nondegenerate SPB curve\n",
    "x_min = -6.5\n",
    "x_max = 10\n",
    "y_min = 0\n",
    "y_max = 700\n",
    "\n",
    "plt.xlim([x_min,x_max])\n",
    "plt.ylim([y_min,y_max])\n",
    "\n",
    "plt.tick_params(direction='in',which='major', length=3.5, bottom=True, top=True, left=True, right=True)\n",
    "yticks = np.arange(0,y_max+1,200)\n",
    "plt.yticks(yticks)\n",
    "xticks = np.arange(-5,x_max+0.1,5)\n",
    "plt.xticks(xticks)\n",
    "plt.tick_params(labelbottom=True, labeltop=False, labelright=False, labelleft=True, labelsize=11)\n",
    "plt.ylabel(r'$|\\alpha|$ ($\\mathrm{\\mu}$V K$^{-1}$)')\n",
    "plt.xlabel(r'$\\eta$')\n",
    "\n",
    "plt.axvspan(x_min,-1, color='#1a6fdf', alpha=0.15, lw=0)\n",
    "plt.axvspan(5,x_max, color='#f14040', alpha=0.15, lw=0)\n",
    "plt.text((x_min+1)/2-1, y_max+y_max*0.025, 'non-degenerate', ha='center', va='bottom', zorder=5, fontsize=11, color='#1a6fdf')\n",
    "plt.text((x_max-5)/2+5, y_max+y_max*0.025, 'degenerate', ha='center', va='bottom', zorder=5, fontsize=11, color='#f14040')"
   ]
  }
 ],
 "metadata": {
  "kernelspec": {
   "display_name": "base",
   "language": "python",
   "name": "python3"
  },
  "language_info": {
   "codemirror_mode": {
    "name": "ipython",
    "version": 3
   },
   "file_extension": ".py",
   "mimetype": "text/x-python",
   "name": "python",
   "nbconvert_exporter": "python",
   "pygments_lexer": "ipython3",
   "version": "3.9.12"
  }
 },
 "nbformat": 4,
 "nbformat_minor": 5
}
